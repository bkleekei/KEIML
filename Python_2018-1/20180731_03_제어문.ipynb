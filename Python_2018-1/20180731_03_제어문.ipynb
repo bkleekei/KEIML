{
 "cells": [
  {
   "cell_type": "markdown",
   "metadata": {},
   "source": [
    "## 제어문\n",
    "제어문은 프로그래밍의 꽃이다.  \n",
    "함수와 클래스를 이루는 근간이다.  "
   ]
  },
  {
   "cell_type": "markdown",
   "metadata": {},
   "source": [
    "### 03-1 if문\n"
   ]
  },
  {
   "cell_type": "code",
   "execution_count": 1,
   "metadata": {},
   "outputs": [],
   "source": [
    "출근 = 1"
   ]
  },
  {
   "cell_type": "code",
   "execution_count": 90,
   "metadata": {},
   "outputs": [
    {
     "name": "stdout",
     "output_type": "stream",
     "text": [
      "퇴근 했습니다.\n"
     ]
    }
   ],
   "source": [
    "출근 = 1\n",
    "퇴근 = 100\n",
    "휴가 = 50\n",
    "\n",
    "if (출근) == False:\n",
    "    print(\"출근 했습니다.\")\n",
    "elif 퇴근:\n",
    "    print(\"퇴근 했습니다.\")\n",
    "elif 휴가:\n",
    "    print(\"휴가 입니다.\")\n",
    "else:\n",
    "    print(\"이도저도 아닙니다.\")\n",
    "    \n",
    "    \n",
    "    \n",
    "    print(\"결근입니다.\")"
   ]
  },
  {
   "cell_type": "markdown",
   "metadata": {},
   "source": [
    "들여쓰기(Indentation)  \n",
    "PEP 8 -- Style Guide for Python Code(https://www.python.org/dev/peps/pep-0008/)  "
   ]
  },
  {
   "cell_type": "code",
   "execution_count": 91,
   "metadata": {},
   "outputs": [
    {
     "name": "stdout",
     "output_type": "stream",
     "text": [
      "출근 했습니다.\n",
      "결근입니다.\n"
     ]
    }
   ],
   "source": [
    "if 출근:\n",
    "    print(\"출근 했습니다.\")\n",
    "    print(\"결근입니다.\")"
   ]
  },
  {
   "cell_type": "code",
   "execution_count": 92,
   "metadata": {},
   "outputs": [
    {
     "name": "stdout",
     "output_type": "stream",
     "text": [
      "출근 했습니다.\n",
      "결근입니다.\n"
     ]
    }
   ],
   "source": [
    "if 출근:\n",
    "    print(\"출근 했습니다.\")\n",
    "\n",
    "    print(\"결근입니다.\")"
   ]
  },
  {
   "cell_type": "code",
   "execution_count": 93,
   "metadata": {},
   "outputs": [
    {
     "name": "stdout",
     "output_type": "stream",
     "text": [
      "결근입니다.\n"
     ]
    }
   ],
   "source": [
    "결근 = 0 \n",
    "\n",
    "if 결근:\n",
    "    print(\"출근 했습니다.\")\n",
    "else:\n",
    "    print(\"결근입니다.\")"
   ]
  },
  {
   "cell_type": "code",
   "execution_count": 96,
   "metadata": {},
   "outputs": [
    {
     "ename": "IndentationError",
     "evalue": "unexpected indent (<ipython-input-96-872524b62e73>, line 6)",
     "output_type": "error",
     "traceback": [
      "\u001b[0;36m  File \u001b[0;32m\"<ipython-input-96-872524b62e73>\"\u001b[0;36m, line \u001b[0;32m6\u001b[0m\n\u001b[0;31m    print(\"출근 했습니다.(아래)\")\u001b[0m\n\u001b[0m    ^\u001b[0m\n\u001b[0;31mIndentationError\u001b[0m\u001b[0;31m:\u001b[0m unexpected indent\n"
     ]
    }
   ],
   "source": [
    "if 결근:\n",
    "    print(\"출근 했습니다.(위)\")\n",
    "else:\n",
    "    print(\"결근입니다.\")\n",
    "\n",
    "        print(\"출근 했습니다.(아래)\")\n",
    "\n",
    "    \n",
    "    \n",
    "    \n",
    "    \n",
    "    \n",
    "    \n",
    "    \n",
    "    \n",
    "    print(\"결근입니다.\"):\n",
    "                \n",
    "    \n",
    "    \n",
    "    \n",
    "    \n",
    "    \n",
    "    \n",
    "    \n",
    "print(\"퇴근인가요?\")"
   ]
  },
  {
   "cell_type": "markdown",
   "metadata": {},
   "source": [
    "탭은 시스템마다 인지하는 칸 수가 다르고 변경이 가능하다  \n",
    "따라서, 되도록 기본 들여쓰기를 사용하거나 스페이스바를 사용하자  "
   ]
  },
  {
   "cell_type": "code",
   "execution_count": 97,
   "metadata": {},
   "outputs": [
    {
     "name": "stdout",
     "output_type": "stream",
     "text": [
      "값이 있어^^\n"
     ]
    }
   ],
   "source": [
    "조건절 = \"값이 있어? 없어?\"\n",
    "\n",
    "\n",
    "if \"값이 있어? 없어?\" == True:\n",
    "    print(\"값이 있어^^\")\n",
    "else:\n",
    "    print(\"아니 값이 없어=33\")"
   ]
  },
  {
   "cell_type": "code",
   "execution_count": 98,
   "metadata": {},
   "outputs": [
    {
     "name": "stdout",
     "output_type": "stream",
     "text": [
      "값이 있어^^\n"
     ]
    }
   ],
   "source": [
    "if [1, 2, 3, 4, 5]:\n",
    "    print(\"값이 있어^^\")\n",
    "else:\n",
    "    print(\"아니 값이 없어=33\")"
   ]
  },
  {
   "cell_type": "code",
   "execution_count": 99,
   "metadata": {},
   "outputs": [
    {
     "name": "stdout",
     "output_type": "stream",
     "text": [
      "값이 있어^^\n"
     ]
    }
   ],
   "source": [
    "if {1, 2, 3, 4, 5}:\n",
    "    print(\"값이 있어^^\")\n",
    "else:\n",
    "    print(\"아니 값이 없어=33\")"
   ]
  },
  {
   "cell_type": "code",
   "execution_count": 101,
   "metadata": {},
   "outputs": [
    {
     "name": "stdout",
     "output_type": "stream",
     "text": [
      "값이 있어^^\n"
     ]
    }
   ],
   "source": [
    "if {\"값\": \"없어\"}:\n",
    "    print(\"값이 있어^^\")\n",
    "else:\n",
    "    print(\"아니 값이 없어=33\")"
   ]
  },
  {
   "cell_type": "code",
   "execution_count": 103,
   "metadata": {},
   "outputs": [
    {
     "name": "stdout",
     "output_type": "stream",
     "text": [
      "값이 있어^^\n"
     ]
    }
   ],
   "source": [
    "if True:\n",
    "    print(\"값이 있어^^\")\n",
    "else:\n",
    "    print(\"아니 값이 없어=33\")"
   ]
  },
  {
   "cell_type": "code",
   "execution_count": 104,
   "metadata": {},
   "outputs": [
    {
     "name": "stdout",
     "output_type": "stream",
     "text": [
      "아니 값이 없어=33\n"
     ]
    }
   ],
   "source": [
    "if False:\n",
    "    print(\"값이 있어^^\")\n",
    "else:\n",
    "    print(\"아니 값이 없어=33\")"
   ]
  },
  {
   "cell_type": "code",
   "execution_count": 17,
   "metadata": {},
   "outputs": [],
   "source": [
    "내가커 = 1\n",
    "아냐내가커 = 1\n",
    "진짜커 = 10"
   ]
  },
  {
   "cell_type": "code",
   "execution_count": 105,
   "metadata": {},
   "outputs": [
    {
     "name": "stdout",
     "output_type": "stream",
     "text": [
      "아냐내가커가 커^^\n"
     ]
    }
   ],
   "source": [
    "if 내가커 > 아냐내가커:\n",
    "    print(\"내가커가 큰가?\")\n",
    "else:\n",
    "    print(\"아냐내가커가 커^^\")"
   ]
  },
  {
   "cell_type": "code",
   "execution_count": 106,
   "metadata": {},
   "outputs": [
    {
     "name": "stdout",
     "output_type": "stream",
     "text": [
      "진짜커가 큰가?\n"
     ]
    }
   ],
   "source": [
    "if 진짜커 > 아냐내가커:\n",
    "    print(\"진짜커가 큰가?\")\n",
    "else:\n",
    "    print(\"아냐내가커가 커^^\")"
   ]
  },
  {
   "cell_type": "code",
   "execution_count": 107,
   "metadata": {},
   "outputs": [
    {
     "name": "stdout",
     "output_type": "stream",
     "text": [
      "내가커가 큰가?\n"
     ]
    }
   ],
   "source": [
    "if 내가커 == 아냐내가커:\n",
    "    print(\"내가커가 큰가?\")\n",
    "else:\n",
    "    print(\"아냐내가커가 커^^\")"
   ]
  },
  {
   "cell_type": "code",
   "execution_count": 108,
   "metadata": {},
   "outputs": [
    {
     "name": "stdout",
     "output_type": "stream",
     "text": [
      "아냐내가커는 내가커랑 같아? 그 말이 맞아?\n"
     ]
    }
   ],
   "source": [
    "if (내가커 == 아냐내가커) == True:\n",
    "    print(\"아냐내가커는 내가커랑 같아? 그 말이 맞아?\")\n",
    "else:\n",
    "    print(\"아니 틀려. 아냐내가커는 내가커랑 같아? 그 말은 틀려^^\")"
   ]
  },
  {
   "cell_type": "code",
   "execution_count": 109,
   "metadata": {},
   "outputs": [
    {
     "name": "stdout",
     "output_type": "stream",
     "text": [
      "아니 틀려. 아냐내가커는 내가커랑 같아? 그 말은 틀려^^\n"
     ]
    }
   ],
   "source": [
    "if (내가커 == 아냐내가커) == False:\n",
    "    print(\"아냐내가커는 내가커랑 같아? 그 말이 맞아?\")\n",
    "else:\n",
    "    print(\"아니 틀려. 아냐내가커는 내가커랑 같아? 그 말은 틀려^^\")"
   ]
  },
  {
   "cell_type": "code",
   "execution_count": 25,
   "metadata": {},
   "outputs": [
    {
     "name": "stdout",
     "output_type": "stream",
     "text": [
      "아냐내가커는 내가커랑 달라? 그 말이 틀려?가 맞아.\n"
     ]
    }
   ],
   "source": [
    "if (내가커 != 아냐내가커) == False:\n",
    "    print(\"아냐내가커는 내가커랑 달라? 그 말이 틀려?가 맞아.\")\n",
    "else:\n",
    "    print(\"아니 같아. 아냐내가커는 내가커랑 달라? 그 말은 틀려^^\")"
   ]
  },
  {
   "cell_type": "raw",
   "metadata": {},
   "source": [
    "<\n",
    ">\n",
    "==\n",
    "!=\n",
    ">=\n",
    "<="
   ]
  },
  {
   "cell_type": "raw",
   "metadata": {},
   "source": [
    "or\n",
    "and\n",
    "not"
   ]
  },
  {
   "cell_type": "raw",
   "metadata": {},
   "source": [
    "element in elements\n",
    "element not in elements"
   ]
  },
  {
   "cell_type": "code",
   "execution_count": 110,
   "metadata": {},
   "outputs": [
    {
     "name": "stdout",
     "output_type": "stream",
     "text": [
      "포도가 있나요?\n",
      "포도는 없네요.\n"
     ]
    }
   ],
   "source": [
    "과일 = [\"사과\", \"배\", \"배나나\",\"체리\"]\n",
    "\n",
    "print(\"포도가 있나요?\")\n",
    "\n",
    "if \"포도\" in 과일:\n",
    "    print(\"포도가 있네요.\")\n",
    "else:\n",
    "    print(\"포도는 없네요.\")"
   ]
  },
  {
   "cell_type": "code",
   "execution_count": 111,
   "metadata": {},
   "outputs": [
    {
     "data": {
      "text/plain": [
       "['사과', '배', '배나나', '체리']"
      ]
     },
     "execution_count": 111,
     "metadata": {},
     "output_type": "execute_result"
    }
   ],
   "source": [
    "과일"
   ]
  },
  {
   "cell_type": "code",
   "execution_count": 112,
   "metadata": {},
   "outputs": [
    {
     "data": {
      "text/plain": [
       "False"
      ]
     },
     "execution_count": 112,
     "metadata": {},
     "output_type": "execute_result"
    }
   ],
   "source": [
    "\"포도\" in 과일"
   ]
  },
  {
   "cell_type": "code",
   "execution_count": 114,
   "metadata": {},
   "outputs": [
    {
     "name": "stdout",
     "output_type": "stream",
     "text": [
      "포도가 없나요?\n",
      "포도는 있네요.\n"
     ]
    }
   ],
   "source": [
    "print(\"포도가 없나요?\")\n",
    "\n",
    "if \"포도\" not in 과일:\n",
    "    print(\"포도는 있네요.\")\n",
    "else:\n",
    "    print(\"포도가 없네요.\")"
   ]
  },
  {
   "cell_type": "code",
   "execution_count": 115,
   "metadata": {},
   "outputs": [
    {
     "data": {
      "text/plain": [
       "True"
      ]
     },
     "execution_count": 115,
     "metadata": {},
     "output_type": "execute_result"
    }
   ],
   "source": [
    "\"포도\" not in 과일"
   ]
  },
  {
   "cell_type": "code",
   "execution_count": 116,
   "metadata": {},
   "outputs": [
    {
     "name": "stdout",
     "output_type": "stream",
     "text": [
      "포도가 없나요?\n",
      "네. 없어요.\n"
     ]
    }
   ],
   "source": [
    "print(\"포도가 없나요?\")\n",
    "\n",
    "if \"포도\" not in 과일:\n",
    "    print(\"네. 없어요.\")\n",
    "else:\n",
    "    print(\"아뇨, 있어요.\")"
   ]
  },
  {
   "cell_type": "code",
   "execution_count": 117,
   "metadata": {},
   "outputs": [
    {
     "data": {
      "text/plain": [
       "['사과', '배', '배나나', '체리']"
      ]
     },
     "execution_count": 117,
     "metadata": {},
     "output_type": "execute_result"
    }
   ],
   "source": [
    "과일"
   ]
  },
  {
   "cell_type": "code",
   "execution_count": 118,
   "metadata": {},
   "outputs": [
    {
     "data": {
      "text/plain": [
       "True"
      ]
     },
     "execution_count": 118,
     "metadata": {},
     "output_type": "execute_result"
    }
   ],
   "source": [
    "\"포도\" not in 과일"
   ]
  },
  {
   "cell_type": "code",
   "execution_count": 120,
   "metadata": {},
   "outputs": [
    {
     "ename": "IndentationError",
     "evalue": "expected an indented block (<ipython-input-120-72d87019a37f>, line 5)",
     "output_type": "error",
     "traceback": [
      "\u001b[0;36m  File \u001b[0;32m\"<ipython-input-120-72d87019a37f>\"\u001b[0;36m, line \u001b[0;32m5\u001b[0m\n\u001b[0;31m    else:\u001b[0m\n\u001b[0m       ^\u001b[0m\n\u001b[0;31mIndentationError\u001b[0m\u001b[0;31m:\u001b[0m expected an indented block\n"
     ]
    }
   ],
   "source": [
    "print(\"포도가 없나요?\")\n",
    "\n",
    "if \"포도\" not in 과일:\n",
    "    \n",
    "else:\n",
    "    print(\"아뇨, 있어요.\")"
   ]
  },
  {
   "cell_type": "code",
   "execution_count": 121,
   "metadata": {},
   "outputs": [
    {
     "name": "stdout",
     "output_type": "stream",
     "text": [
      "포도가 없나요?\n"
     ]
    }
   ],
   "source": [
    "print(\"포도가 없나요?\")\n",
    "\n",
    "if \"포도\" not in 과일:\n",
    "    pass\n",
    "else:\n",
    "    print(\"아뇨, 있어요.\")"
   ]
  },
  {
   "cell_type": "code",
   "execution_count": 122,
   "metadata": {},
   "outputs": [
    {
     "name": "stdout",
     "output_type": "stream",
     "text": [
      "포도가 없나요?\n"
     ]
    }
   ],
   "source": [
    "print(\"포도가 없나요?\")\n",
    "\n",
    "if \"포도\" not in 과일:\n",
    "    pass\n",
    "elif \"사과\" in 과일:\n",
    "    print(\"사과는 있어요.\")"
   ]
  },
  {
   "cell_type": "code",
   "execution_count": 123,
   "metadata": {},
   "outputs": [
    {
     "name": "stdout",
     "output_type": "stream",
     "text": [
      "어떤 과일이 있어요?\n",
      "사과가 있어요.\n",
      "['사과', '배', '배나나', '체리'] 이 있어요^^\n"
     ]
    }
   ],
   "source": [
    "print(\"어떤 과일이 있어요?\")\n",
    "\n",
    "if \"포도\" in 과일:\n",
    "    print(\"포도가 있어요.\")\n",
    "elif \"사과\" in 과일:\n",
    "    print(\"사과가 있어요.\")\n",
    "elif \"배\" in 과일:\n",
    "    print(\"배가 있어요.\")\n",
    "elif \"딸기\" in 과일:\n",
    "    print(\"딸기가 있어요.\")\n",
    "else:\n",
    "    print(\"과일이 없어요.\")\n",
    "    \n",
    "print(과일, \"이 있어요^^\")"
   ]
  },
  {
   "cell_type": "code",
   "execution_count": 124,
   "metadata": {},
   "outputs": [
    {
     "name": "stdout",
     "output_type": "stream",
     "text": [
      "포도가 있나요?\n",
      "사과는 있어요.\n"
     ]
    }
   ],
   "source": [
    "print(\"포도가 있나요?\")\n",
    "\n",
    "if \"포도\" in 과일: pass\n",
    "elif \"사과\" in 과일: print(\"사과는 있어요.\")"
   ]
  },
  {
   "cell_type": "markdown",
   "metadata": {},
   "source": [
    "줄여쓰는 것보다 읽기 편하게 작성하는 것이 좋습니다."
   ]
  },
  {
   "cell_type": "code",
   "execution_count": null,
   "metadata": {},
   "outputs": [],
   "source": []
  },
  {
   "cell_type": "markdown",
   "metadata": {},
   "source": [
    "### 03-2 while문  \n",
    "조건이 참인 경우에 동작(무한루프)  \n",
    "VS 03-3 for문"
   ]
  },
  {
   "cell_type": "code",
   "execution_count": 125,
   "metadata": {},
   "outputs": [],
   "source": [
    "import time"
   ]
  },
  {
   "cell_type": "code",
   "execution_count": 49,
   "metadata": {},
   "outputs": [],
   "source": []
  },
  {
   "cell_type": "code",
   "execution_count": 126,
   "metadata": {
    "collapsed": true
   },
   "outputs": [
    {
     "name": "stdout",
     "output_type": "stream",
     "text": [
      "언제 갈까나?\n",
      "집에 가려면,  60 초 남았습니다.\n",
      "언제 갈까나?\n",
      "집에 가려면,  59 초 남았습니다.\n",
      "언제 갈까나?\n",
      "집에 가려면,  58 초 남았습니다.\n",
      "언제 갈까나?\n",
      "집에 가려면,  57 초 남았습니다.\n",
      "언제 갈까나?\n",
      "집에 가려면,  56 초 남았습니다.\n",
      "언제 갈까나?\n",
      "집에 가려면,  55 초 남았습니다.\n",
      "언제 갈까나?\n",
      "집에 가려면,  54 초 남았습니다.\n",
      "언제 갈까나?\n",
      "집에 가려면,  53 초 남았습니다.\n",
      "언제 갈까나?\n",
      "집에 가려면,  52 초 남았습니다.\n",
      "언제 갈까나?\n",
      "집에 가려면,  51 초 남았습니다.\n",
      "언제 갈까나?\n",
      "집에 가려면,  50 초 남았습니다.\n",
      "언제 갈까나?\n",
      "집에 가려면,  49 초 남았습니다.\n",
      "언제 갈까나?\n",
      "집에 가려면,  48 초 남았습니다.\n",
      "언제 갈까나?\n",
      "집에 가려면,  47 초 남았습니다.\n",
      "언제 갈까나?\n",
      "집에 가려면,  46 초 남았습니다.\n",
      "언제 갈까나?\n",
      "집에 가려면,  45 초 남았습니다.\n",
      "언제 갈까나?\n",
      "집에 가려면,  44 초 남았습니다.\n",
      "언제 갈까나?\n",
      "집에 가려면,  43 초 남았습니다.\n",
      "언제 갈까나?\n",
      "집에 가려면,  42 초 남았습니다.\n",
      "언제 갈까나?\n",
      "집에 가려면,  41 초 남았습니다.\n",
      "언제 갈까나?\n",
      "집에 가려면,  40 초 남았습니다.\n",
      "언제 갈까나?\n",
      "집에 가려면,  39 초 남았습니다.\n",
      "언제 갈까나?\n",
      "집에 가려면,  38 초 남았습니다.\n",
      "언제 갈까나?\n",
      "집에 가려면,  37 초 남았습니다.\n",
      "언제 갈까나?\n",
      "집에 가려면,  36 초 남았습니다.\n",
      "언제 갈까나?\n",
      "집에 가려면,  35 초 남았습니다.\n",
      "언제 갈까나?\n",
      "집에 가려면,  34 초 남았습니다.\n",
      "언제 갈까나?\n",
      "집에 가려면,  33 초 남았습니다.\n",
      "언제 갈까나?\n",
      "집에 가려면,  32 초 남았습니다.\n",
      "언제 갈까나?\n",
      "집에 가려면,  31 초 남았습니다.\n",
      "언제 갈까나?\n",
      "집에 가려면,  30 초 남았습니다.\n",
      "언제 갈까나?\n",
      "집에 가려면,  29 초 남았습니다.\n",
      "언제 갈까나?\n",
      "집에 가려면,  28 초 남았습니다.\n",
      "언제 갈까나?\n",
      "집에 가려면,  27 초 남았습니다.\n",
      "언제 갈까나?\n",
      "집에 가려면,  26 초 남았습니다.\n",
      "언제 갈까나?\n",
      "집에 가려면,  25 초 남았습니다.\n",
      "언제 갈까나?\n",
      "집에 가려면,  24 초 남았습니다.\n",
      "언제 갈까나?\n",
      "집에 가려면,  23 초 남았습니다.\n",
      "언제 갈까나?\n",
      "집에 가려면,  22 초 남았습니다.\n",
      "언제 갈까나?\n",
      "집에 가려면,  21 초 남았습니다.\n",
      "언제 갈까나?\n",
      "집에 가려면,  20 초 남았습니다.\n",
      "언제 갈까나?\n",
      "집에 가려면,  19 초 남았습니다.\n",
      "언제 갈까나?\n",
      "집에 가려면,  18 초 남았습니다.\n",
      "언제 갈까나?\n",
      "집에 가려면,  17 초 남았습니다.\n",
      "언제 갈까나?\n",
      "집에 가려면,  16 초 남았습니다.\n",
      "언제 갈까나?\n",
      "집에 가려면,  15 초 남았습니다.\n",
      "언제 갈까나?\n",
      "집에 가려면,  14 초 남았습니다.\n",
      "언제 갈까나?\n",
      "집에 가려면,  13 초 남았습니다.\n",
      "언제 갈까나?\n",
      "집에 가려면,  12 초 남았습니다.\n",
      "언제 갈까나?\n",
      "집에 가려면,  11 초 남았습니다.\n",
      "언제 갈까나?\n",
      "집에 가려면,  10 초 남았습니다.\n",
      "언제 갈까나?\n",
      "집에 가려면,  9 초 남았습니다.\n",
      "언제 갈까나?\n",
      "집에 가려면,  8 초 남았습니다.\n",
      "언제 갈까나?\n",
      "집에 가려면,  7 초 남았습니다.\n",
      "언제 갈까나?\n",
      "집에 가려면,  6 초 남았습니다.\n",
      "언제 갈까나?\n",
      "집에 가려면,  5 초 남았습니다.\n",
      "언제 갈까나?\n",
      "집에 가려면,  4 초 남았습니다.\n",
      "언제 갈까나?\n",
      "집에 가려면,  3 초 남았습니다.\n",
      "언제 갈까나?\n",
      "집에 가려면,  2 초 남았습니다.\n",
      "언제 갈까나?\n",
      "집에 가려면,  1 초 남았습니다.\n",
      "언제 갈까나?\n",
      "고고씽=33\n"
     ]
    }
   ],
   "source": [
    "고고 = 0\n",
    "일분후고홈 = 60\n",
    "\n",
    "startTime = time.time()\n",
    "\n",
    "while(고고 != 일분후고홈):\n",
    "    고고 = int(time.time() - startTime)\n",
    "\n",
    "    print(\"언제 갈까나?\")\n",
    "    \n",
    "    if 고고 == 60:\n",
    "        print(\"고고씽=33\")\n",
    "    else:\n",
    "        print(\"집에 가려면, \", 60-고고, \"초 남았습니다.\")\n",
    "        \n",
    "    time.sleep(1)"
   ]
  },
  {
   "cell_type": "code",
   "execution_count": 127,
   "metadata": {},
   "outputs": [
    {
     "name": "stdout",
     "output_type": "stream",
     "text": [
      "출석부 프로그램입니다.\n",
      "추가는 1번, 삭제는 2번, 목록보기는 3번, 종료는 4번입니다.\n",
      "1\n",
      "출석부 프로그램입니다.\n",
      "추가하고싶은 사람을 입력하십시오: \n",
      "한국진\n",
      "출석부 프로그램입니다.\n",
      "추가는 1번, 삭제는 2번, 목록보기는 3번, 종료는 4번입니다.\n",
      "1\n",
      "출석부 프로그램입니다.\n",
      "추가하고싶은 사람을 입력하십시오: \n",
      "한국선\n",
      "출석부 프로그램입니다.\n",
      "추가는 1번, 삭제는 2번, 목록보기는 3번, 종료는 4번입니다.\n",
      "1\n",
      "출석부 프로그램입니다.\n",
      "추가하고싶은 사람을 입력하십시오: \n",
      "한국돌\n",
      "출석부 프로그램입니다.\n",
      "추가는 1번, 삭제는 2번, 목록보기는 3번, 종료는 4번입니다.\n",
      "3\n",
      "출석부 프로그램입니다.\n",
      "한국진\n",
      "한국선\n",
      "한국돌\n",
      "추가는 1번, 삭제는 2번, 목록보기는 3번, 종료는 4번입니다.\n",
      "2\n",
      "출석부 프로그램입니다.\n",
      "삭제하고 싶은 사람을 입력하십시오: \n",
      "한국선\n",
      "출석부 프로그램입니다.\n",
      "추가는 1번, 삭제는 2번, 목록보기는 3번, 종료는 4번입니다.\n",
      "3\n",
      "출석부 프로그램입니다.\n",
      "한국진\n",
      "한국돌\n",
      "추가는 1번, 삭제는 2번, 목록보기는 3번, 종료는 4번입니다.\n",
      "4\n",
      "종료합니다.\n"
     ]
    }
   ],
   "source": [
    "출석부 = []\n",
    "기능 = 0\n",
    "\n",
    "while 기능 != 4:\n",
    "    print(\"출석부 프로그램입니다.\")\n",
    "    \n",
    "    if 기능 == 1:\n",
    "        print(\"추가하고싶은 사람을 입력하십시오: \")\n",
    "        출석부.append(input())\n",
    "        기능 = 0 \n",
    "    elif 기능 == 2:\n",
    "        print(\"삭제하고 싶은 사람을 입력하십시오: \")\n",
    "        출석부.remove(input())\n",
    "        기능 = 0\n",
    "    elif 기능 == 3:\n",
    "        for 이름 in 출석부:\n",
    "            print(이름)\n",
    "        print(\"추가는 1번, 삭제는 2번, 목록보기는 3번, 종료는 4번입니다.\")\n",
    "        기능 = int(input())\n",
    "#     elif 기능 == 4:\n",
    "#         print(\"종료합니다.\")\n",
    "#         break\n",
    "    else:\n",
    "        print(\"추가는 1번, 삭제는 2번, 목록보기는 3번, 종료는 4번입니다.\")\n",
    "        기능 = int(input())\n",
    "        \n",
    "print(\"종료합니다.\")"
   ]
  },
  {
   "cell_type": "code",
   "execution_count": 128,
   "metadata": {},
   "outputs": [
    {
     "data": {
      "text/plain": [
       "4"
      ]
     },
     "execution_count": 128,
     "metadata": {},
     "output_type": "execute_result"
    }
   ],
   "source": [
    "기능"
   ]
  },
  {
   "cell_type": "code",
   "execution_count": 1,
   "metadata": {},
   "outputs": [
    {
     "ename": "NameError",
     "evalue": "name '출석부' is not defined",
     "output_type": "error",
     "traceback": [
      "\u001b[0;31m---------------------------------------------------------------------------\u001b[0m",
      "\u001b[0;31mNameError\u001b[0m                                 Traceback (most recent call last)",
      "\u001b[0;32m<ipython-input-1-1227f3cb743c>\u001b[0m in \u001b[0;36m<module>\u001b[0;34m()\u001b[0m\n\u001b[0;32m----> 1\u001b[0;31m \u001b[0m출석부\u001b[0m\u001b[0;34m\u001b[0m\u001b[0m\n\u001b[0m",
      "\u001b[0;31mNameError\u001b[0m: name '출석부' is not defined"
     ]
    }
   ],
   "source": [
    "출석부"
   ]
  },
  {
   "cell_type": "code",
   "execution_count": 3,
   "metadata": {},
   "outputs": [],
   "source": [
    "import time"
   ]
  },
  {
   "cell_type": "code",
   "execution_count": 4,
   "metadata": {},
   "outputs": [
    {
     "name": "stdout",
     "output_type": "stream",
     "text": [
      "이건 뭐하는 짓이지?\n",
      "어디서 약을 팔아~!!!\n",
      "이건 뭐하는 짓이지?\n",
      "어디서 약을 팔아~!!!\n",
      "이건 뭐하는 짓이지?\n",
      "어디서 약을 팔아~!!!\n",
      "이건 뭐하는 짓이지?\n",
      "어디서 약을 팔아~!!!\n",
      "이건 뭐하는 짓이지?\n",
      "어디서 약을 팔아~!!!\n",
      "이건 뭐하는 짓이지?\n",
      "어디서 약을 팔아~!!!\n",
      "이건 뭐하는 짓이지?\n",
      "어디서 약을 팔아~!!!\n"
     ]
    },
    {
     "ename": "KeyboardInterrupt",
     "evalue": "",
     "output_type": "error",
     "traceback": [
      "\u001b[0;31m---------------------------------------------------------------------------\u001b[0m",
      "\u001b[0;31mKeyboardInterrupt\u001b[0m                         Traceback (most recent call last)",
      "\u001b[0;32m<ipython-input-4-0ce9ff13cc4e>\u001b[0m in \u001b[0;36m<module>\u001b[0;34m()\u001b[0m\n\u001b[1;32m      3\u001b[0m     \u001b[0mprint\u001b[0m\u001b[0;34m(\u001b[0m\u001b[0;34m\"어디서 약을 팔아~!!!\"\u001b[0m\u001b[0;34m)\u001b[0m\u001b[0;34m\u001b[0m\u001b[0m\n\u001b[1;32m      4\u001b[0m \u001b[0;34m\u001b[0m\u001b[0m\n\u001b[0;32m----> 5\u001b[0;31m     \u001b[0mtime\u001b[0m\u001b[0;34m.\u001b[0m\u001b[0msleep\u001b[0m\u001b[0;34m(\u001b[0m\u001b[0;36m2\u001b[0m\u001b[0;34m)\u001b[0m\u001b[0;34m\u001b[0m\u001b[0m\n\u001b[0m",
      "\u001b[0;31mKeyboardInterrupt\u001b[0m: "
     ]
    }
   ],
   "source": [
    "while True:\n",
    "    print(\"이건 뭐하는 짓이지?\")\n",
    "    print(\"어디서 약을 팔아~!!!\")\n",
    "    \n",
    "    time.sleep(2)"
   ]
  },
  {
   "cell_type": "raw",
   "metadata": {},
   "source": [
    "Ctrl + C는 콘솔(터미널)에서 사용합니다.\n",
    "커널 안에 인터럽트로 종료합니다."
   ]
  },
  {
   "cell_type": "code",
   "execution_count": 5,
   "metadata": {},
   "outputs": [
    {
     "name": "stdout",
     "output_type": "stream",
     "text": [
      "0 나와랏!!!\n",
      "1 나와랏!!!\n",
      "2 나와랏!!!\n",
      "3 나와랏!!!\n",
      "4 나와랏!!!\n"
     ]
    }
   ],
   "source": [
    "for intCount in range(5):\n",
    "    print(intCount, \"나와랏!!!\")"
   ]
  },
  {
   "cell_type": "code",
   "execution_count": 6,
   "metadata": {},
   "outputs": [
    {
     "name": "stdout",
     "output_type": "stream",
     "text": [
      "5 나와랏!!!\n",
      "4 나와랏!!!\n",
      "3 나와랏!!!\n",
      "2 나와랏!!!\n",
      "1 나와랏!!!\n"
     ]
    }
   ],
   "source": [
    "for intCount in range(5):\n",
    "    print(5 - intCount, \"나와랏!!!\")"
   ]
  },
  {
   "cell_type": "raw",
   "metadata": {},
   "source": [
    "필요한 라이브러리는 아래와 같이 설치합니다.\n",
    "conda install pandas"
   ]
  },
  {
   "cell_type": "code",
   "execution_count": 7,
   "metadata": {},
   "outputs": [
    {
     "name": "stdout",
     "output_type": "stream",
     "text": [
      "Variable   Type      Data/Info\n",
      "------------------------------\n",
      "intCount   int       4\n",
      "time       module    <module 'time' (built-in)>\n"
     ]
    }
   ],
   "source": [
    "# 현재 사용중인 모든 변수를 확인하는?\n",
    "whos"
   ]
  },
  {
   "cell_type": "raw",
   "metadata": {},
   "source": [
    "한강홍수통제소 > 실시간 수문자료 > 수위자료 활용사례 보여드림\n",
    "문서에서 키워드 추출해서 빈도분석, 워드클라우드 작성사례 보여드림(형태소 분석기 5개 적용)"
   ]
  },
  {
   "cell_type": "code",
   "execution_count": null,
   "metadata": {},
   "outputs": [],
   "source": []
  }
 ],
 "metadata": {
  "kernelspec": {
   "display_name": "Python 3",
   "language": "python",
   "name": "python3"
  },
  "language_info": {
   "codemirror_mode": {
    "name": "ipython",
    "version": 3
   },
   "file_extension": ".py",
   "mimetype": "text/x-python",
   "name": "python",
   "nbconvert_exporter": "python",
   "pygments_lexer": "ipython3",
   "version": "3.6.5"
  }
 },
 "nbformat": 4,
 "nbformat_minor": 2
}
